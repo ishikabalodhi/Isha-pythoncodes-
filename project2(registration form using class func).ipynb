{
  "cells": [
    {
      "cell_type": "code",
      "source": [
        "import pandas as pd\n",
        "\n",
        "class Registration:\n",
        "    def __init__(self, name, sap_id, email_id, course):\n",
        "        self.name = name\n",
        "        self.sap_id = sap_id\n",
        "        self.email_id = email_id\n",
        "        self.course = course\n",
        "\n",
        "class RegistrationSystem:\n",
        "    def __init__(self):\n",
        "        self.registrations = []\n",
        "\n",
        "    def register(self):\n",
        "        name = input(\"Enter name: \")\n",
        "        sap_id = input(\"Enter SAP ID: \")\n",
        "        email_id = input(\"Enter email: \")\n",
        "        course = input(\"Enter course: \")\n",
        "\n",
        "        registration = Registration(name, sap_id, email_id, course)\n",
        "        self.registrations.append(registration)\n",
        "\n",
        "    def display_registration_data(self):\n",
        "        data = pd.DataFrame({\n",
        "            'name': [reg.name for reg in self.registrations],\n",
        "            'sap_id': [reg.sap_id for reg in self.registrations],\n",
        "            'email': [reg.email_id for reg in self.registrations],\n",
        "            'course': [reg.course for reg in self.registrations]\n",
        "        })\n",
        "        return data\n",
        "\n",
        "registration_system = RegistrationSystem()\n",
        "\n",
        "registration_system.register()\n",
        "registration_system.register()\n",
        "registration_system.register()\n",
        "\n",
        "data = registration_system.display_registration_data()\n",
        "print(data)\n"
      ],
      "metadata": {
        "id": "wovH9oyr-K0Z"
      },
      "execution_count": null,
      "outputs": []
    }
  ],
  "metadata": {
    "colab": {
      "name": "Welcome To Colaboratory",
      "toc_visible": true,
      "provenance": []
    },
    "kernelspec": {
      "display_name": "Python 3",
      "name": "python3"
    }
  },
  "nbformat": 4,
  "nbformat_minor": 0
}