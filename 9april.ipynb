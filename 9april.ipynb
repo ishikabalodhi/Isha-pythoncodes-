{
  "cells": [
    {
      "cell_type": "markdown",
      "metadata": {
        "id": "view-in-github",
        "colab_type": "text"
      },
      "source": [
        "<a href=\"https://colab.research.google.com/github/ishikabalodhi/Isha-pythoncodes-/blob/main/9april.ipynb\" target=\"_parent\"><img src=\"https://colab.research.google.com/assets/colab-badge.svg\" alt=\"Open In Colab\"/></a>"
      ]
    },
    {
      "cell_type": "code",
      "execution_count": 4,
      "metadata": {
        "id": "zwFnJsE6vjf8",
        "outputId": "20e4ab46-fe60-4e0e-ce10-0cf378c3edfd",
        "colab": {
          "base_uri": "https://localhost:8080/"
        }
      },
      "outputs": [
        {
          "output_type": "stream",
          "name": "stdout",
          "text": [
            "Requirement already satisfied: numpy in /usr/local/lib/python3.10/dist-packages (1.25.2)\n",
            "Requirement already satisfied: pandas in /usr/local/lib/python3.10/dist-packages (2.0.3)\n",
            "Requirement already satisfied: python-dateutil>=2.8.2 in /usr/local/lib/python3.10/dist-packages (from pandas) (2.8.2)\n",
            "Requirement already satisfied: pytz>=2020.1 in /usr/local/lib/python3.10/dist-packages (from pandas) (2023.4)\n",
            "Requirement already satisfied: tzdata>=2022.1 in /usr/local/lib/python3.10/dist-packages (from pandas) (2024.1)\n",
            "Requirement already satisfied: numpy>=1.21.0 in /usr/local/lib/python3.10/dist-packages (from pandas) (1.25.2)\n",
            "Requirement already satisfied: six>=1.5 in /usr/local/lib/python3.10/dist-packages (from python-dateutil>=2.8.2->pandas) (1.16.0)\n"
          ]
        },
        {
          "output_type": "execute_result",
          "data": {
            "text/plain": [
              "array([1, 2, 3, 4, 5])"
            ]
          },
          "metadata": {},
          "execution_count": 4
        }
      ],
      "source": [
        "!pip install numpy\n",
        "!pip install pandas\n",
        "import numpy as np\n",
        "import pandas as nd\n",
        "l1=[1,2,3,4,5]\n",
        "t1=(7,8,9,99)\n",
        "a1=np.array(l1)\n",
        "np.array(l1)\n"
      ]
    },
    {
      "cell_type": "code",
      "source": [
        "l2=[0,0,0,0,0]\n",
        "a3=np.array([l1,l2])\n",
        "print(a3)"
      ],
      "metadata": {
        "id": "99Ybp0LUhkJz",
        "outputId": "0297a223-a958-4326-d3a7-6d05149c87e8",
        "colab": {
          "base_uri": "https://localhost:8080/"
        }
      },
      "execution_count": 5,
      "outputs": [
        {
          "output_type": "stream",
          "name": "stdout",
          "text": [
            "[[1 2 3 4 5]\n",
            " [0 0 0 0 0]]\n"
          ]
        }
      ]
    },
    {
      "cell_type": "code",
      "source": [
        "a4=np.arange(0,20).reshape(4,5)\n",
        "print(a4)"
      ],
      "metadata": {
        "id": "V5W6L-s6iif3",
        "outputId": "8f871a5c-2937-40cc-9033-ae6de2d04ae2",
        "colab": {
          "base_uri": "https://localhost:8080/"
        }
      },
      "execution_count": 6,
      "outputs": [
        {
          "output_type": "stream",
          "name": "stdout",
          "text": [
            "[[ 0  1  2  3  4]\n",
            " [ 5  6  7  8  9]\n",
            " [10 11 12 13 14]\n",
            " [15 16 17 18 19]]\n"
          ]
        }
      ]
    },
    {
      "cell_type": "code",
      "source": [
        "a4=np.arange(0,20,2).reshape(2,5)\n",
        "print(a4)"
      ],
      "metadata": {
        "id": "XPJPLvZPi0Tk",
        "outputId": "1b0d36aa-5bdd-45db-a899-b7495671a478",
        "colab": {
          "base_uri": "https://localhost:8080/"
        }
      },
      "execution_count": 7,
      "outputs": [
        {
          "output_type": "stream",
          "name": "stdout",
          "text": [
            "[[ 0  2  4  6  8]\n",
            " [10 12 14 16 18]]\n"
          ]
        }
      ]
    },
    {
      "cell_type": "code",
      "source": [
        "a5=np.random.randint(0,100,20)\n",
        "print(a5)"
      ],
      "metadata": {
        "id": "r5IrfvGui7WA",
        "outputId": "b415742b-5eb8-486d-eb1c-20f503698d48",
        "colab": {
          "base_uri": "https://localhost:8080/"
        }
      },
      "execution_count": 9,
      "outputs": [
        {
          "output_type": "stream",
          "name": "stdout",
          "text": [
            "[85 30 77 26 31 47 88 30 67 20 17 65 38 33 84 24 32  0 83 46]\n"
          ]
        }
      ]
    },
    {
      "cell_type": "code",
      "source": [
        "a6=np.arange(0,100).reshape(10,10)\n",
        "print(a6)"
      ],
      "metadata": {
        "id": "Vmp7YZonjq7o",
        "outputId": "b974bfb0-0ed0-450b-b656-1f8953d91cdb",
        "colab": {
          "base_uri": "https://localhost:8080/"
        }
      },
      "execution_count": 10,
      "outputs": [
        {
          "output_type": "stream",
          "name": "stdout",
          "text": [
            "[[ 0  1  2  3  4  5  6  7  8  9]\n",
            " [10 11 12 13 14 15 16 17 18 19]\n",
            " [20 21 22 23 24 25 26 27 28 29]\n",
            " [30 31 32 33 34 35 36 37 38 39]\n",
            " [40 41 42 43 44 45 46 47 48 49]\n",
            " [50 51 52 53 54 55 56 57 58 59]\n",
            " [60 61 62 63 64 65 66 67 68 69]\n",
            " [70 71 72 73 74 75 76 77 78 79]\n",
            " [80 81 82 83 84 85 86 87 88 89]\n",
            " [90 91 92 93 94 95 96 97 98 99]]\n"
          ]
        }
      ]
    },
    {
      "cell_type": "code",
      "source": [
        "a6[5:6 ,3:8]\n"
      ],
      "metadata": {
        "id": "lhjei-vokP0K",
        "outputId": "43a0d490-8639-404a-8230-7f7552200f2d",
        "colab": {
          "base_uri": "https://localhost:8080/"
        }
      },
      "execution_count": 11,
      "outputs": [
        {
          "output_type": "execute_result",
          "data": {
            "text/plain": [
              "array([[53, 54, 55, 56, 57]])"
            ]
          },
          "metadata": {},
          "execution_count": 11
        }
      ]
    },
    {
      "cell_type": "code",
      "source": [
        "a6[9: ,9:]"
      ],
      "metadata": {
        "id": "xB7gME3Ek_i8",
        "outputId": "dfaf3df1-8c28-41ad-8eac-3c3911ecc24e",
        "colab": {
          "base_uri": "https://localhost:8080/"
        }
      },
      "execution_count": 12,
      "outputs": [
        {
          "output_type": "execute_result",
          "data": {
            "text/plain": [
              "array([[99]])"
            ]
          },
          "metadata": {},
          "execution_count": 12
        }
      ]
    },
    {
      "cell_type": "code",
      "source": [
        "l1=[1,2,3,4,5]\n",
        "t1=(1,2,3,4,5)\n",
        "a4=np.arange(0,20).reshape(4,5)\n",
        "print(a4)\n",
        "a5=np.random.randint(0,100,20).reshape(4,5)\n",
        "print(a5)\n",
        "a5*=2"
      ],
      "metadata": {
        "id": "5pNkWeQclQfc",
        "outputId": "2d04ef2f-2367-4342-ace1-d3019831c4e7",
        "colab": {
          "base_uri": "https://localhost:8080/"
        }
      },
      "execution_count": 10,
      "outputs": [
        {
          "output_type": "stream",
          "name": "stdout",
          "text": [
            "[[ 0  1  2  3  4]\n",
            " [ 5  6  7  8  9]\n",
            " [10 11 12 13 14]\n",
            " [15 16 17 18 19]]\n",
            "[[37 70 30 83 44]\n",
            " [ 0 43 72 88 99]\n",
            " [ 9 13  6 60 67]\n",
            " [ 4 20 51 63 62]]\n"
          ]
        }
      ]
    }
  ],
  "metadata": {
    "colab": {
      "name": "Welcome To Colaboratory",
      "toc_visible": true,
      "provenance": [],
      "include_colab_link": true
    },
    "kernelspec": {
      "display_name": "Python 3",
      "name": "python3"
    }
  },
  "nbformat": 4,
  "nbformat_minor": 0
}