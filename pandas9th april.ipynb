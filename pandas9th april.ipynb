{
  "nbformat": 4,
  "nbformat_minor": 0,
  "metadata": {
    "colab": {
      "provenance": [],
      "authorship_tag": "ABX9TyNHn7EcniV5kT9Y9JL+H/Mg"
    },
    "kernelspec": {
      "name": "python3",
      "display_name": "Python 3"
    },
    "language_info": {
      "name": "python"
    }
  },
  "cells": [
    {
      "cell_type": "code",
      "execution_count": 1,
      "metadata": {
        "colab": {
          "base_uri": "https://localhost:8080/",
          "height": 504
        },
        "id": "w8bGhg5jyQQ8",
        "outputId": "4f8a788b-2ab0-4349-935e-b41cbb93bc00"
      },
      "outputs": [
        {
          "output_type": "stream",
          "name": "stdout",
          "text": [
            "Requirement already satisfied: pandas in /usr/local/lib/python3.10/dist-packages (2.0.3)\n",
            "Requirement already satisfied: python-dateutil>=2.8.2 in /usr/local/lib/python3.10/dist-packages (from pandas) (2.8.2)\n",
            "Requirement already satisfied: pytz>=2020.1 in /usr/local/lib/python3.10/dist-packages (from pandas) (2023.4)\n",
            "Requirement already satisfied: tzdata>=2022.1 in /usr/local/lib/python3.10/dist-packages (from pandas) (2024.1)\n",
            "Requirement already satisfied: numpy>=1.21.0 in /usr/local/lib/python3.10/dist-packages (from pandas) (1.25.2)\n",
            "Requirement already satisfied: six>=1.5 in /usr/local/lib/python3.10/dist-packages (from python-dateutil>=2.8.2->pandas) (1.16.0)\n",
            "Requirement already satisfied: numpy in /usr/local/lib/python3.10/dist-packages (1.25.2)\n",
            "              SapID     Fname    Lname subject marks\n",
            "student1  500127057   Vaibhav  Panther  python    84\n",
            "student2  500127057     Vidit   Panwar  python    56\n",
            "student3  500127057   Srishti   batham  python    99\n",
            "student4  500127057  Ishumasi  Bidholi  python    80\n"
          ]
        },
        {
          "output_type": "execute_result",
          "data": {
            "text/plain": [
              "<seaborn.axisgrid.PairGrid at 0x7aa4ffdb2e00>"
            ]
          },
          "metadata": {},
          "execution_count": 1
        },
        {
          "output_type": "display_data",
          "data": {
            "text/plain": [
              "<Figure size 250x250 with 2 Axes>"
            ],
            "image/png": "[encoded data removed]"
          },
          "metadata": {}
        }
      ],
      "source": [
        "!pip install pandas\n",
        "!pip install numpy\n",
        "import numpy as np\n",
        "import pandas as pd\n",
        "import seaborn as sns\n",
        "l1=[\"500127057\",\"Vaibhav\",\"Panther\",\"python\",\"84\"]\n",
        "l2=[\"500127057\",\"Vidit\",\"Panwar\",\"python\",\"56\"]\n",
        "l3=[\"500127057\",\"Srishti\",\"batham\",\"python\",\"99\"]\n",
        "l4=[\"500127057\",\"Ishumasi\",\"Bidholi\",\"python\",\"80\"]\n",
        "df=pd.DataFrame(data=np.array([l1,l2,l3,l4]),index = [\"student1\", \"student2\", \"student3\", \"student4\"]\n",
        "                                                  ,columns = [\"SapID\", \"Fname\", \"Lname\", \"subject\", \"marks\"])\n",
        "print(df)\n",
        "df[\"marks\"] = pd.to_numeric(df[\"marks\"])\n",
        "sns.pairplot(df)"
      ]
    },
    {
      "cell_type": "code",
      "source": [
        "import numpy as np\n",
        "import pandas as pd\n",
        "df=pd.DataFrame(data=np.array([l1,l2,l3]))\n",
        "print(df)\n",
        "\n",
        "l1=[\"40004007\",\"shanvi\",\"kumari\",\"python\",\"shanvi\",81]\n",
        "l2=[\"40004006\",\"aditi\",\"chauhan\",\"python\",\"aditi\",85]\n",
        "l3=[\"40004005\",\"shubhi\",\"chauhan\",\"python\",\"shubhi\",80]\n",
        "a2=np.array([l1,l2,l3])\n",
        "print(a2)\n",
        "\n",
        "a2[2]=\"AK\"\n",
        "print(a2)"
      ],
      "metadata": {
        "colab": {
          "base_uri": "https://localhost:8080/"
        },
        "id": "DCvBxy699nMk",
        "outputId": "7498d360-7d69-4083-9491-f387e82547e9"
      },
      "execution_count": 2,
      "outputs": [
        {
          "output_type": "stream",
          "name": "stdout",
          "text": [
            "           0        1        2       3   4\n",
            "0  500127057  Vaibhav  Panther  python  84\n",
            "1  500127057    Vidit   Panwar  python  56\n",
            "2  500127057  Srishti   batham  python  99\n",
            "[['40004007' 'shanvi' 'kumari' 'python' 'shanvi' '81']\n",
            " ['40004006' 'aditi' 'chauhan' 'python' 'aditi' '85']\n",
            " ['40004005' 'shubhi' 'chauhan' 'python' 'shubhi' '80']]\n",
            "[['40004007' 'shanvi' 'kumari' 'python' 'shanvi' '81']\n",
            " ['40004006' 'aditi' 'chauhan' 'python' 'aditi' '85']\n",
            " ['AK' 'AK' 'AK' 'AK' 'AK' 'AK']]\n"
          ]
        }
      ]
    },
    {
      "cell_type": "code",
      "source": [
        "!pip install numpy\n",
        "!pip install pandas\n",
        "import numpy as np\n",
        "import pandas as nd\n",
        "l1=[1,2,3,4,5]\n",
        "t1=(7,8,9,99)\n",
        "a1=np.array(l1)\n",
        "np.array(l1)"
      ],
      "metadata": {
        "colab": {
          "base_uri": "https://localhost:8080/"
        },
        "id": "9KpR9ROn-M8B",
        "outputId": "d6490a93-d757-4368-fb7f-04216b12c573"
      },
      "execution_count": 3,
      "outputs": [
        {
          "output_type": "stream",
          "name": "stdout",
          "text": [
            "Requirement already satisfied: numpy in /usr/local/lib/python3.10/dist-packages (1.25.2)\n",
            "Requirement already satisfied: pandas in /usr/local/lib/python3.10/dist-packages (2.0.3)\n",
            "Requirement already satisfied: python-dateutil>=2.8.2 in /usr/local/lib/python3.10/dist-packages (from pandas) (2.8.2)\n",
            "Requirement already satisfied: pytz>=2020.1 in /usr/local/lib/python3.10/dist-packages (from pandas) (2023.4)\n",
            "Requirement already satisfied: tzdata>=2022.1 in /usr/local/lib/python3.10/dist-packages (from pandas) (2024.1)\n",
            "Requirement already satisfied: numpy>=1.21.0 in /usr/local/lib/python3.10/dist-packages (from pandas) (1.25.2)\n",
            "Requirement already satisfied: six>=1.5 in /usr/local/lib/python3.10/dist-packages (from python-dateutil>=2.8.2->pandas) (1.16.0)\n"
          ]
        },
        {
          "output_type": "execute_result",
          "data": {
            "text/plain": [
              "array([1, 2, 3, 4, 5])"
            ]
          },
          "metadata": {},
          "execution_count": 3
        }
      ]
    }
  ]
}