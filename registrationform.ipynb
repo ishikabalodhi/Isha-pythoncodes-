{
  "cells": [
    {
      "cell_type": "markdown",
      "metadata": {
        "id": "view-in-github",
        "colab_type": "text"
      },
      "source": [
        "<a href=\"https://colab.research.google.com/github/ishikabalodhi/Isha-pythoncodes-/blob/main/registrationform.ipynb\" target=\"_parent\"><img src=\"https://colab.research.google.com/assets/colab-badge.svg\" alt=\"Open In Colab\"/></a>"
      ]
    },
    {
      "cell_type": "code",
      "source": [
        "import pandas as pd\n",
        "\n",
        "\n",
        "names = []\n",
        "sap_ids = []\n",
        "email_ids = []\n",
        "courses = []\n",
        "\n",
        "def register():\n",
        "\n",
        "    name = input(\"Enter name: \")\n",
        "    sap_id = input(\"Enter SAP ID: \")\n",
        "    email_id = input(\"Enter email: \")\n",
        "    course = input(\"Enter course: \")\n",
        "\n",
        "\n",
        "    names.append(name)\n",
        "    sap_ids.append(sap_id)\n",
        "    email_ids.append(email_id)\n",
        "    courses.append(course)\n",
        "\n",
        "def display_registration_data():\n",
        "\n",
        "    registration_data = pd.DataFrame({\n",
        "        'name': names,\n",
        "        'sap_id': sap_ids,\n",
        "        'email': email_ids,\n",
        "        'course': courses\n",
        "    })\n",
        "    return registration_data\n",
        "\n",
        "\n",
        "register()\n",
        "register()\n",
        "register()\n",
        "\n",
        "\n",
        "data = display_registration_data()\n",
        "print(data)\n"
      ],
      "metadata": {
        "id": "paWLTyatwxxT",
        "outputId": "ed08d522-a9fe-4e09-ddfd-a3773ffa2958",
        "colab": {
          "base_uri": "https://localhost:8080/"
        }
      },
      "execution_count": 10,
      "outputs": [
        {
          "output_type": "stream",
          "name": "stdout",
          "text": [
            "Enter name: Isha Balodhi\n",
            "Enter SAP ID: 500120333\n",
            "Enter email: Isha.120333@stu.upes.ac.in\n",
            "Enter course: Btech CSE\n",
            "Enter name: Aditi Chauhan \n",
            "Enter SAP ID: 500127096\n",
            "Enter email: Aditi.127096@stu.upes.ac.in\n",
            "Enter course: Btech CSE\n",
            "Enter name: Vaibhav Panwar\n",
            "Enter SAP ID: 500127057\n",
            "Enter email: Vaibhav.127057@stu.upes.ac.in\n",
            "Enter course: Btech CSE\n",
            "             name     sap_id                          email     course\n",
            "0    Isha Balodhi  500120333     Isha.120333@stu.upes.ac.in  Btech CSE\n",
            "1  Aditi Chauhan   500127096    Aditi.127096@stu.upes.ac.in  Btech CSE\n",
            "2  Vaibhav Panwar  500127057  Vaibhav.127057@stu.upes.ac.in  Btech CSE\n"
          ]
        }
      ]
    }
  ],
  "metadata": {
    "colab": {
      "name": "Welcome To Colaboratory",
      "toc_visible": true,
      "provenance": [],
      "include_colab_link": true
    },
    "kernelspec": {
      "display_name": "Python 3",
      "name": "python3"
    }
  },
  "nbformat": 4,
  "nbformat_minor": 0
}